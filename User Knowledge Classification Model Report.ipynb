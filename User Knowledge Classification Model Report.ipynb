{
 "cells": [
  {
   "cell_type": "markdown",
   "id": "305cb3ae-ca9f-4b8c-b1f0-c8da425a8a87",
   "metadata": {
    "tags": []
   },
   "source": [
    "## User Knowledge Classification Model Project\n",
    "##### Group 41: Daeun (Kelly) Lee, Jessie Megan, Mia (Ziqing) Ling, Renee Chan"
   ]
  },
  {
   "cell_type": "markdown",
   "id": "fd9b20f3-527d-4328-86ab-346229a0dc47",
   "metadata": {},
   "source": [
    "### 1. Introduction\n",
    "\n",
    "Adaptive learning system, also known as adaptive learning environment, is a new web-based learning system which aims to help learners acquire knowledge and skills in specific learning areas.\n",
    "<br><br>\n",
    "However, for web-based adaptive learning environments in different fields, creating effective user knowledge models is a crucial task. Specifically, the most important disadvantage of user knowledge models is that they only classify user knowledge without considering the weight difference between user domain related data (Kahraman, Sagiroglu and Colak, 2013). As various factors can play a significant role in a student’s knowledge level, understanding the attributes that contribute to knowledge levels can help improve the efficiency of the web-based adaptive learning environments. \n",
    "<br><br>\n",
    "This project utilizes the User Knowledge Modeling Dataset to predict the knowledge level of a user (UNS) through a classification model created with the k-nearest neighbor algorithm. This dataset examines a group of student’s knowledge pertaining to the subject of Electrical DC machines. The knowledge level can be classified as `Very_Low`, `Low`, `Middle`, and `High`. These classes simply indicate levels of beginner, intermediate, expert, and advanced (Colak, Sagiroglu, and Kahraman, 2008). \n",
    "<br><br>\n",
    "To be specific, we are going to use the following attribues as the candidate predictor to build the classification model to predict the `UNS` (The knowledge level of user) level: <br>\n",
    "1) `STG` (The degree of study time for goal object materials) <br>\n",
    "2) `SCG` (The degree of repetition number of user for goal object materials) <br>\n",
    "3) `STR` (The degree of study time of user for related objects with goal object) <br>\n",
    "4) `LPR` (The exam performance of user for related objects with goal object) <br>\n",
    "5) `PEG` (The exam performance of user for goal objects) <br>"
   ]
  },
  {
   "cell_type": "markdown",
   "id": "dfd3ea88-b563-4804-b38d-182e19837b06",
   "metadata": {},
   "source": [
    "In specific, we are going to use `LPR` and `PEG` as the predictors among all other potentially possible predictor variables and their combinations as the combination of `LPR` and `PEG` provide the maximum accuracy among all other combinations of the predictors. Therefore, the following question will be answered: what is the predicted knowledge level of a user given the exam performance of the user for related object with goal objects (LPR) and the exam performance of the user for goal objects (PEG)?"
   ]
  },
  {
   "cell_type": "markdown",
   "id": "7b00a34a-5e56-43b4-bf90-e1ca8a0b58c6",
   "metadata": {},
   "source": [
    "### 2. Methods & Results\n",
    "<p style='text-align:justify;'> \n",
    "We first load all packages needed to do our analysis. Then we load, wrangle, and explore the data. \n",
    "</p>"
   ]
  },
  {
   "cell_type": "code",
   "execution_count": 1,
   "id": "26ac1ba3-bf99-4078-b7fe-764f32f92ce6",
   "metadata": {
    "vscode": {
     "languageId": "r"
    }
   },
   "outputs": [
    {
     "name": "stderr",
     "output_type": "stream",
     "text": [
      "── \u001b[1mAttaching packages\u001b[22m ─────────────────────────────────────── tidyverse 1.3.1 ──\n",
      "\n",
      "\u001b[32m✔\u001b[39m \u001b[34mggplot2\u001b[39m 3.3.6     \u001b[32m✔\u001b[39m \u001b[34mpurrr  \u001b[39m 0.3.4\n",
      "\u001b[32m✔\u001b[39m \u001b[34mtibble \u001b[39m 3.1.7     \u001b[32m✔\u001b[39m \u001b[34mdplyr  \u001b[39m 1.0.9\n",
      "\u001b[32m✔\u001b[39m \u001b[34mtidyr  \u001b[39m 1.2.0     \u001b[32m✔\u001b[39m \u001b[34mstringr\u001b[39m 1.4.0\n",
      "\u001b[32m✔\u001b[39m \u001b[34mreadr  \u001b[39m 2.1.2     \u001b[32m✔\u001b[39m \u001b[34mforcats\u001b[39m 0.5.1\n",
      "\n",
      "── \u001b[1mConflicts\u001b[22m ────────────────────────────────────────── tidyverse_conflicts() ──\n",
      "\u001b[31m✖\u001b[39m \u001b[34mdplyr\u001b[39m::\u001b[32mfilter()\u001b[39m masks \u001b[34mstats\u001b[39m::filter()\n",
      "\u001b[31m✖\u001b[39m \u001b[34mdplyr\u001b[39m::\u001b[32mlag()\u001b[39m    masks \u001b[34mstats\u001b[39m::lag()\n",
      "\n",
      "\n",
      "Attaching package: ‘testthat’\n",
      "\n",
      "\n",
      "The following object is masked from ‘package:dplyr’:\n",
      "\n",
      "    matches\n",
      "\n",
      "\n",
      "The following object is masked from ‘package:purrr’:\n",
      "\n",
      "    is_null\n",
      "\n",
      "\n",
      "The following objects are masked from ‘package:readr’:\n",
      "\n",
      "    edition_get, local_edition\n",
      "\n",
      "\n",
      "The following object is masked from ‘package:tidyr’:\n",
      "\n",
      "    matches\n",
      "\n",
      "\n",
      "── \u001b[1mAttaching packages\u001b[22m ────────────────────────────────────── tidymodels 1.0.0 ──\n",
      "\n",
      "\u001b[32m✔\u001b[39m \u001b[34mbroom       \u001b[39m 1.0.0     \u001b[32m✔\u001b[39m \u001b[34mrsample     \u001b[39m 1.0.0\n",
      "\u001b[32m✔\u001b[39m \u001b[34mdials       \u001b[39m 1.0.0     \u001b[32m✔\u001b[39m \u001b[34mtune        \u001b[39m 1.0.0\n",
      "\u001b[32m✔\u001b[39m \u001b[34minfer       \u001b[39m 1.0.2     \u001b[32m✔\u001b[39m \u001b[34mworkflows   \u001b[39m 1.0.0\n",
      "\u001b[32m✔\u001b[39m \u001b[34mmodeldata   \u001b[39m 1.0.0     \u001b[32m✔\u001b[39m \u001b[34mworkflowsets\u001b[39m 1.0.0\n",
      "\u001b[32m✔\u001b[39m \u001b[34mparsnip     \u001b[39m 1.0.0     \u001b[32m✔\u001b[39m \u001b[34myardstick   \u001b[39m 1.0.0\n",
      "\u001b[32m✔\u001b[39m \u001b[34mrecipes     \u001b[39m 1.0.1     \n",
      "\n",
      "── \u001b[1mConflicts\u001b[22m ───────────────────────────────────────── tidymodels_conflicts() ──\n",
      "\u001b[31m✖\u001b[39m \u001b[34mscales\u001b[39m::\u001b[32mdiscard()\u001b[39m   masks \u001b[34mpurrr\u001b[39m::discard()\n",
      "\u001b[31m✖\u001b[39m \u001b[34mdplyr\u001b[39m::\u001b[32mfilter()\u001b[39m     masks \u001b[34mstats\u001b[39m::filter()\n",
      "\u001b[31m✖\u001b[39m \u001b[34mrecipes\u001b[39m::\u001b[32mfixed()\u001b[39m    masks \u001b[34mstringr\u001b[39m::fixed()\n",
      "\u001b[31m✖\u001b[39m \u001b[34mtestthat\u001b[39m::\u001b[32mis_null()\u001b[39m masks \u001b[34mpurrr\u001b[39m::is_null()\n",
      "\u001b[31m✖\u001b[39m \u001b[34mdplyr\u001b[39m::\u001b[32mlag()\u001b[39m        masks \u001b[34mstats\u001b[39m::lag()\n",
      "\u001b[31m✖\u001b[39m \u001b[34mrsample\u001b[39m::\u001b[32mmatches()\u001b[39m  masks \u001b[34mtestthat\u001b[39m::matches(), \u001b[34mdplyr\u001b[39m::matches(), \u001b[34mtidyr\u001b[39m::matches()\n",
      "\u001b[31m✖\u001b[39m \u001b[34myardstick\u001b[39m::\u001b[32mspec()\u001b[39m   masks \u001b[34mreadr\u001b[39m::spec()\n",
      "\u001b[31m✖\u001b[39m \u001b[34mrecipes\u001b[39m::\u001b[32mstep()\u001b[39m     masks \u001b[34mstats\u001b[39m::step()\n",
      "\u001b[34m•\u001b[39m Use \u001b[32mtidymodels_prefer()\u001b[39m to resolve common conflicts.\n",
      "\n"
     ]
    }
   ],
   "source": [
    "# Load the libraries\n",
    "library(tidyverse)\n",
    "library(testthat)\n",
    "library(digest)\n",
    "library(repr)\n",
    "library(tidymodels)\n",
    "library(readxl)"
   ]
  },
  {
   "cell_type": "markdown",
   "id": "442a0b41-e4ad-4fe2-9d5b-9f11b2624f59",
   "metadata": {},
   "source": [
    "The data we analyze is stored in a `.xlsx` file with headers, so we load it using `read_excel` while specifying `col_names` to `TRUE`. We select the predictor variables we are interested in, and the target variable. Using `mutate`, we convert UNS to a factor, using `as_factor`, because we are working with it as a categorical statistical variable. This dataset is already in a tidy format, with each row containing one observation, each column containing one variable, and each cell containing one value. There are also no `NA` values, hence, we do not need to clean it again."
   ]
  },
  {
   "cell_type": "code",
   "execution_count": 2,
   "id": "feac013a-3124-4efd-9f92-bd92452c8534",
   "metadata": {
    "vscode": {
     "languageId": "r"
    }
   },
   "outputs": [
    {
     "data": {
      "text/html": [
       "<table class=\"dataframe\">\n",
       "<caption>A tibble: 6 × 6</caption>\n",
       "<thead>\n",
       "\t<tr><th scope=col>STG</th><th scope=col>SCG</th><th scope=col>STR</th><th scope=col>LPR</th><th scope=col>PEG</th><th scope=col>UNS</th></tr>\n",
       "\t<tr><th scope=col>&lt;dbl&gt;</th><th scope=col>&lt;dbl&gt;</th><th scope=col>&lt;dbl&gt;</th><th scope=col>&lt;dbl&gt;</th><th scope=col>&lt;dbl&gt;</th><th scope=col>&lt;fct&gt;</th></tr>\n",
       "</thead>\n",
       "<tbody>\n",
       "\t<tr><td>0.00</td><td>0.00</td><td>0.00</td><td>0.00</td><td>0.00</td><td>very_low</td></tr>\n",
       "\t<tr><td>0.08</td><td>0.08</td><td>0.10</td><td>0.24</td><td>0.90</td><td>High    </td></tr>\n",
       "\t<tr><td>0.06</td><td>0.06</td><td>0.05</td><td>0.25</td><td>0.33</td><td>Low     </td></tr>\n",
       "\t<tr><td>0.10</td><td>0.10</td><td>0.15</td><td>0.65</td><td>0.30</td><td>Middle  </td></tr>\n",
       "\t<tr><td>0.08</td><td>0.08</td><td>0.08</td><td>0.98</td><td>0.24</td><td>Low     </td></tr>\n",
       "\t<tr><td>0.09</td><td>0.15</td><td>0.40</td><td>0.10</td><td>0.66</td><td>Middle  </td></tr>\n",
       "</tbody>\n",
       "</table>\n"
      ],
      "text/latex": [
       "A tibble: 6 × 6\n",
       "\\begin{tabular}{llllll}\n",
       " STG & SCG & STR & LPR & PEG & UNS\\\\\n",
       " <dbl> & <dbl> & <dbl> & <dbl> & <dbl> & <fct>\\\\\n",
       "\\hline\n",
       "\t 0.00 & 0.00 & 0.00 & 0.00 & 0.00 & very\\_low\\\\\n",
       "\t 0.08 & 0.08 & 0.10 & 0.24 & 0.90 & High    \\\\\n",
       "\t 0.06 & 0.06 & 0.05 & 0.25 & 0.33 & Low     \\\\\n",
       "\t 0.10 & 0.10 & 0.15 & 0.65 & 0.30 & Middle  \\\\\n",
       "\t 0.08 & 0.08 & 0.08 & 0.98 & 0.24 & Low     \\\\\n",
       "\t 0.09 & 0.15 & 0.40 & 0.10 & 0.66 & Middle  \\\\\n",
       "\\end{tabular}\n"
      ],
      "text/markdown": [
       "\n",
       "A tibble: 6 × 6\n",
       "\n",
       "| STG &lt;dbl&gt; | SCG &lt;dbl&gt; | STR &lt;dbl&gt; | LPR &lt;dbl&gt; | PEG &lt;dbl&gt; | UNS &lt;fct&gt; |\n",
       "|---|---|---|---|---|---|\n",
       "| 0.00 | 0.00 | 0.00 | 0.00 | 0.00 | very_low |\n",
       "| 0.08 | 0.08 | 0.10 | 0.24 | 0.90 | High     |\n",
       "| 0.06 | 0.06 | 0.05 | 0.25 | 0.33 | Low      |\n",
       "| 0.10 | 0.10 | 0.15 | 0.65 | 0.30 | Middle   |\n",
       "| 0.08 | 0.08 | 0.08 | 0.98 | 0.24 | Low      |\n",
       "| 0.09 | 0.15 | 0.40 | 0.10 | 0.66 | Middle   |\n",
       "\n"
      ],
      "text/plain": [
       "  STG  SCG  STR  LPR  PEG  UNS     \n",
       "1 0.00 0.00 0.00 0.00 0.00 very_low\n",
       "2 0.08 0.08 0.10 0.24 0.90 High    \n",
       "3 0.06 0.06 0.05 0.25 0.33 Low     \n",
       "4 0.10 0.10 0.15 0.65 0.30 Middle  \n",
       "5 0.08 0.08 0.08 0.98 0.24 Low     \n",
       "6 0.09 0.15 0.40 0.10 0.66 Middle  "
      ]
     },
     "metadata": {},
     "output_type": "display_data"
    }
   ],
   "source": [
    "# Read the dataset and display a snapshot of the orginal dataset\n",
    "user_modeling_dataset <- read_excel(path = \"data/User_Modeling_Data.xlsx\", col_names = TRUE) %>%\n",
    "    select(\"STG\":\"UNS\") %>% \n",
    "    mutate(UNS = as_factor(UNS))\n",
    "head(user_modeling_dataset)"
   ]
  },
  {
   "cell_type": "markdown",
   "id": "bcd88afc-c8f3-4b2e-9859-57c54f819e76",
   "metadata": {},
   "source": [
    "We then use `set.seed` to set our seed value to 1. This allows randomness in our model and ensures a reproducible workflow. Using `initial_split`, we split the data into training and testing sets, specifying `prop = 0.75`, so that 75% of the original dataset is assigned to the training set and 25% of the data is assigned to the testing set. We chose to put 75% of our data into the training set to maximize training of our classifier, while having an appropriate proportion of data in the testing set to have an accurate representation of the classifier's accuracy. We also set `strata` to our target variable (`UNS`)."
   ]
  },
  {
   "cell_type": "code",
   "execution_count": 3,
   "id": "6905db65-77b4-4daf-b94e-0c1471097c82",
   "metadata": {
    "vscode": {
     "languageId": "r"
    }
   },
   "outputs": [],
   "source": [
    "#set seed with Value=1\n",
    "set.seed(1)\n",
    "\n",
    "# split the dataset by 75%\n",
    "user_modeling_split <- initial_split(user_modeling_dataset, prop = 0.75, strata = UNS)\n"
   ]
  },
  {
   "cell_type": "markdown",
   "id": "3edf0393-2ba2-4c4b-8002-ec228f5ca0d3",
   "metadata": {},
   "source": [
    "Next, we use the `training` and `testing` functions to extract the training and testing sets. We use `head` to not take much space when glimpsing the dataset.\n"
   ]
  },
  {
   "cell_type": "code",
   "execution_count": 4,
   "id": "9e76f36e-e27c-4597-a8ef-86987bb8ac33",
   "metadata": {
    "vscode": {
     "languageId": "r"
    }
   },
   "outputs": [
    {
     "data": {
      "text/html": [
       "<table class=\"dataframe\">\n",
       "<caption>A tibble: 6 × 6</caption>\n",
       "<thead>\n",
       "\t<tr><th scope=col>STG</th><th scope=col>SCG</th><th scope=col>STR</th><th scope=col>LPR</th><th scope=col>PEG</th><th scope=col>UNS</th></tr>\n",
       "\t<tr><th scope=col>&lt;dbl&gt;</th><th scope=col>&lt;dbl&gt;</th><th scope=col>&lt;dbl&gt;</th><th scope=col>&lt;dbl&gt;</th><th scope=col>&lt;dbl&gt;</th><th scope=col>&lt;fct&gt;</th></tr>\n",
       "</thead>\n",
       "<tbody>\n",
       "\t<tr><td>0.08</td><td>0.080</td><td>0.10</td><td>0.24</td><td>0.90</td><td>High</td></tr>\n",
       "\t<tr><td>0.00</td><td>0.000</td><td>0.50</td><td>0.20</td><td>0.85</td><td>High</td></tr>\n",
       "\t<tr><td>0.09</td><td>0.300</td><td>0.68</td><td>0.18</td><td>0.85</td><td>High</td></tr>\n",
       "\t<tr><td>0.08</td><td>0.325</td><td>0.62</td><td>0.94</td><td>0.56</td><td>High</td></tr>\n",
       "\t<tr><td>0.20</td><td>0.490</td><td>0.60</td><td>0.20</td><td>0.78</td><td>High</td></tr>\n",
       "\t<tr><td>0.13</td><td>0.390</td><td>0.85</td><td>0.38</td><td>0.77</td><td>High</td></tr>\n",
       "</tbody>\n",
       "</table>\n"
      ],
      "text/latex": [
       "A tibble: 6 × 6\n",
       "\\begin{tabular}{llllll}\n",
       " STG & SCG & STR & LPR & PEG & UNS\\\\\n",
       " <dbl> & <dbl> & <dbl> & <dbl> & <dbl> & <fct>\\\\\n",
       "\\hline\n",
       "\t 0.08 & 0.080 & 0.10 & 0.24 & 0.90 & High\\\\\n",
       "\t 0.00 & 0.000 & 0.50 & 0.20 & 0.85 & High\\\\\n",
       "\t 0.09 & 0.300 & 0.68 & 0.18 & 0.85 & High\\\\\n",
       "\t 0.08 & 0.325 & 0.62 & 0.94 & 0.56 & High\\\\\n",
       "\t 0.20 & 0.490 & 0.60 & 0.20 & 0.78 & High\\\\\n",
       "\t 0.13 & 0.390 & 0.85 & 0.38 & 0.77 & High\\\\\n",
       "\\end{tabular}\n"
      ],
      "text/markdown": [
       "\n",
       "A tibble: 6 × 6\n",
       "\n",
       "| STG &lt;dbl&gt; | SCG &lt;dbl&gt; | STR &lt;dbl&gt; | LPR &lt;dbl&gt; | PEG &lt;dbl&gt; | UNS &lt;fct&gt; |\n",
       "|---|---|---|---|---|---|\n",
       "| 0.08 | 0.080 | 0.10 | 0.24 | 0.90 | High |\n",
       "| 0.00 | 0.000 | 0.50 | 0.20 | 0.85 | High |\n",
       "| 0.09 | 0.300 | 0.68 | 0.18 | 0.85 | High |\n",
       "| 0.08 | 0.325 | 0.62 | 0.94 | 0.56 | High |\n",
       "| 0.20 | 0.490 | 0.60 | 0.20 | 0.78 | High |\n",
       "| 0.13 | 0.390 | 0.85 | 0.38 | 0.77 | High |\n",
       "\n"
      ],
      "text/plain": [
       "  STG  SCG   STR  LPR  PEG  UNS \n",
       "1 0.08 0.080 0.10 0.24 0.90 High\n",
       "2 0.00 0.000 0.50 0.20 0.85 High\n",
       "3 0.09 0.300 0.68 0.18 0.85 High\n",
       "4 0.08 0.325 0.62 0.94 0.56 High\n",
       "5 0.20 0.490 0.60 0.20 0.78 High\n",
       "6 0.13 0.390 0.85 0.38 0.77 High"
      ]
     },
     "metadata": {},
     "output_type": "display_data"
    },
    {
     "data": {
      "text/html": [
       "<table class=\"dataframe\">\n",
       "<caption>A tibble: 6 × 6</caption>\n",
       "<thead>\n",
       "\t<tr><th scope=col>STG</th><th scope=col>SCG</th><th scope=col>STR</th><th scope=col>LPR</th><th scope=col>PEG</th><th scope=col>UNS</th></tr>\n",
       "\t<tr><th scope=col>&lt;dbl&gt;</th><th scope=col>&lt;dbl&gt;</th><th scope=col>&lt;dbl&gt;</th><th scope=col>&lt;dbl&gt;</th><th scope=col>&lt;dbl&gt;</th><th scope=col>&lt;fct&gt;</th></tr>\n",
       "</thead>\n",
       "<tbody>\n",
       "\t<tr><td>0.10</td><td>0.10</td><td>0.43</td><td>0.29</td><td>0.56</td><td>Middle</td></tr>\n",
       "\t<tr><td>0.20</td><td>0.14</td><td>0.35</td><td>0.72</td><td>0.25</td><td>Low   </td></tr>\n",
       "\t<tr><td>0.18</td><td>0.18</td><td>0.55</td><td>0.30</td><td>0.81</td><td>High  </td></tr>\n",
       "\t<tr><td>0.06</td><td>0.06</td><td>0.51</td><td>0.41</td><td>0.30</td><td>Low   </td></tr>\n",
       "\t<tr><td>0.10</td><td>0.10</td><td>0.70</td><td>0.15</td><td>0.90</td><td>High  </td></tr>\n",
       "\t<tr><td>0.12</td><td>0.12</td><td>0.75</td><td>0.35</td><td>0.80</td><td>High  </td></tr>\n",
       "</tbody>\n",
       "</table>\n"
      ],
      "text/latex": [
       "A tibble: 6 × 6\n",
       "\\begin{tabular}{llllll}\n",
       " STG & SCG & STR & LPR & PEG & UNS\\\\\n",
       " <dbl> & <dbl> & <dbl> & <dbl> & <dbl> & <fct>\\\\\n",
       "\\hline\n",
       "\t 0.10 & 0.10 & 0.43 & 0.29 & 0.56 & Middle\\\\\n",
       "\t 0.20 & 0.14 & 0.35 & 0.72 & 0.25 & Low   \\\\\n",
       "\t 0.18 & 0.18 & 0.55 & 0.30 & 0.81 & High  \\\\\n",
       "\t 0.06 & 0.06 & 0.51 & 0.41 & 0.30 & Low   \\\\\n",
       "\t 0.10 & 0.10 & 0.70 & 0.15 & 0.90 & High  \\\\\n",
       "\t 0.12 & 0.12 & 0.75 & 0.35 & 0.80 & High  \\\\\n",
       "\\end{tabular}\n"
      ],
      "text/markdown": [
       "\n",
       "A tibble: 6 × 6\n",
       "\n",
       "| STG &lt;dbl&gt; | SCG &lt;dbl&gt; | STR &lt;dbl&gt; | LPR &lt;dbl&gt; | PEG &lt;dbl&gt; | UNS &lt;fct&gt; |\n",
       "|---|---|---|---|---|---|\n",
       "| 0.10 | 0.10 | 0.43 | 0.29 | 0.56 | Middle |\n",
       "| 0.20 | 0.14 | 0.35 | 0.72 | 0.25 | Low    |\n",
       "| 0.18 | 0.18 | 0.55 | 0.30 | 0.81 | High   |\n",
       "| 0.06 | 0.06 | 0.51 | 0.41 | 0.30 | Low    |\n",
       "| 0.10 | 0.10 | 0.70 | 0.15 | 0.90 | High   |\n",
       "| 0.12 | 0.12 | 0.75 | 0.35 | 0.80 | High   |\n",
       "\n"
      ],
      "text/plain": [
       "  STG  SCG  STR  LPR  PEG  UNS   \n",
       "1 0.10 0.10 0.43 0.29 0.56 Middle\n",
       "2 0.20 0.14 0.35 0.72 0.25 Low   \n",
       "3 0.18 0.18 0.55 0.30 0.81 High  \n",
       "4 0.06 0.06 0.51 0.41 0.30 Low   \n",
       "5 0.10 0.10 0.70 0.15 0.90 High  \n",
       "6 0.12 0.12 0.75 0.35 0.80 High  "
      ]
     },
     "metadata": {},
     "output_type": "display_data"
    }
   ],
   "source": [
    "# train set\n",
    "user_modeling_train <- training(user_modeling_split) \n",
    "\n",
    "# test set\n",
    "user_modeling_test <- testing(user_modeling_split) \n",
    "\n",
    "head(user_modeling_train)\n",
    "# training data will be 75% of the original dataset \n",
    "head(user_modeling_test)\n",
    "# testing data will be 25% of the original dataset"
   ]
  },
  {
   "cell_type": "markdown",
   "id": "9ac2a5f4-4d8d-4c88-beb3-58a61b097f71",
   "metadata": {},
   "source": [
    "To explore our data, we use `group_by`, `summarize` and `n` to find the number and percentage of `UNS` levels."
   ]
  },
  {
   "cell_type": "code",
   "execution_count": 5,
   "id": "5b70bd61-ed1e-4cf4-8cf1-3a112073d0b2",
   "metadata": {
    "vscode": {
     "languageId": "r"
    }
   },
   "outputs": [
    {
     "data": {
      "text/html": [
       "<table class=\"dataframe\">\n",
       "<caption>A tibble: 4 × 3</caption>\n",
       "<thead>\n",
       "\t<tr><th scope=col>UNS</th><th scope=col>count</th><th scope=col>percentage</th></tr>\n",
       "\t<tr><th scope=col>&lt;fct&gt;</th><th scope=col>&lt;int&gt;</th><th scope=col>&lt;dbl&gt;</th></tr>\n",
       "</thead>\n",
       "<tbody>\n",
       "\t<tr><td>very_low</td><td>37</td><td>12.33333</td></tr>\n",
       "\t<tr><td>High    </td><td>76</td><td>25.33333</td></tr>\n",
       "\t<tr><td>Low     </td><td>96</td><td>32.00000</td></tr>\n",
       "\t<tr><td>Middle  </td><td>91</td><td>30.33333</td></tr>\n",
       "</tbody>\n",
       "</table>\n"
      ],
      "text/latex": [
       "A tibble: 4 × 3\n",
       "\\begin{tabular}{lll}\n",
       " UNS & count & percentage\\\\\n",
       " <fct> & <int> & <dbl>\\\\\n",
       "\\hline\n",
       "\t very\\_low & 37 & 12.33333\\\\\n",
       "\t High     & 76 & 25.33333\\\\\n",
       "\t Low      & 96 & 32.00000\\\\\n",
       "\t Middle   & 91 & 30.33333\\\\\n",
       "\\end{tabular}\n"
      ],
      "text/markdown": [
       "\n",
       "A tibble: 4 × 3\n",
       "\n",
       "| UNS &lt;fct&gt; | count &lt;int&gt; | percentage &lt;dbl&gt; |\n",
       "|---|---|---|\n",
       "| very_low | 37 | 12.33333 |\n",
       "| High     | 76 | 25.33333 |\n",
       "| Low      | 96 | 32.00000 |\n",
       "| Middle   | 91 | 30.33333 |\n",
       "\n"
      ],
      "text/plain": [
       "  UNS      count percentage\n",
       "1 very_low 37    12.33333  \n",
       "2 High     76    25.33333  \n",
       "3 Low      96    32.00000  \n",
       "4 Middle   91    30.33333  "
      ]
     },
     "metadata": {},
     "output_type": "display_data"
    }
   ],
   "source": [
    "# Calculate the number and percentage of 4 different UNS levels.\n",
    "UNS_table <- user_modeling_train %>% \n",
    "    group_by(UNS) %>% \n",
    "    summarize(count = n(), percentage = n() / nrow(user_modeling_train) * 100)\n",
    "UNS_table"
   ]
  },
  {
   "cell_type": "markdown",
   "id": "981233f2-b7e0-4c05-b1d3-ba255d926d86",
   "metadata": {},
   "source": [
    "The table above summarizes the number of observations in each class of `UNS`. There are 76 (∼25.33%) `High`, 91 (∼30.33%) `Middle`, 96 (∼32%) `Low`, and 37 (∼12.34%) `very_low` observations. There is an imbalance in class `very_low`, possibly due to the nature of the user population on Electrical DC machines. It is assumed that the `very low` class has a smaller percentage because individuals had a baseline knowledge of Electrical DC machines, regardless of their scores in each attribute. Consequently, the `very_low` observations does not appear as much and does not have a strong vote. This can be solved by oversampling it so it has a stronger vote; however, we choose not to as we want to preserve the original data.\n",
    "<br><br>\n",
    "After that, we choose our predictors by testing the accuracy of the predictor combination.\n",
    "<br><br>\n",
    "As using more predictors may not result in better predictions, and including some irrelevant predictors can negatively affect classifier performance, the selection of predictor variables has a significant influence on the classification model. Thus, we select the best predictor combination based on the accuracy by K-nearest neighbors algorithm.\n",
    "<br><br>\n",
    "First, we generate an individual model to include all subsets of predictors that will be used as the dataset to find the best predictor combination."
   ]
  },
  {
   "cell_type": "code",
   "execution_count": 6,
   "id": "bb131b0a-4865-4957-90c0-e1a760385b4f",
   "metadata": {
    "vscode": {
     "languageId": "r"
    }
   },
   "outputs": [
    {
     "data": {
      "text/html": [
       "<table class=\"dataframe\">\n",
       "<caption>A tibble: 6 × 6</caption>\n",
       "<thead>\n",
       "\t<tr><th scope=col>STG</th><th scope=col>SCG</th><th scope=col>STR</th><th scope=col>LPR</th><th scope=col>PEG</th><th scope=col>UNS</th></tr>\n",
       "\t<tr><th scope=col>&lt;dbl&gt;</th><th scope=col>&lt;dbl&gt;</th><th scope=col>&lt;dbl&gt;</th><th scope=col>&lt;dbl&gt;</th><th scope=col>&lt;dbl&gt;</th><th scope=col>&lt;fct&gt;</th></tr>\n",
       "</thead>\n",
       "<tbody>\n",
       "\t<tr><td>0.08</td><td>0.080</td><td>0.10</td><td>0.24</td><td>0.90</td><td>High</td></tr>\n",
       "\t<tr><td>0.00</td><td>0.000</td><td>0.50</td><td>0.20</td><td>0.85</td><td>High</td></tr>\n",
       "\t<tr><td>0.09</td><td>0.300</td><td>0.68</td><td>0.18</td><td>0.85</td><td>High</td></tr>\n",
       "\t<tr><td>0.08</td><td>0.325</td><td>0.62</td><td>0.94</td><td>0.56</td><td>High</td></tr>\n",
       "\t<tr><td>0.20</td><td>0.490</td><td>0.60</td><td>0.20</td><td>0.78</td><td>High</td></tr>\n",
       "\t<tr><td>0.13</td><td>0.390</td><td>0.85</td><td>0.38</td><td>0.77</td><td>High</td></tr>\n",
       "</tbody>\n",
       "</table>\n"
      ],
      "text/latex": [
       "A tibble: 6 × 6\n",
       "\\begin{tabular}{llllll}\n",
       " STG & SCG & STR & LPR & PEG & UNS\\\\\n",
       " <dbl> & <dbl> & <dbl> & <dbl> & <dbl> & <fct>\\\\\n",
       "\\hline\n",
       "\t 0.08 & 0.080 & 0.10 & 0.24 & 0.90 & High\\\\\n",
       "\t 0.00 & 0.000 & 0.50 & 0.20 & 0.85 & High\\\\\n",
       "\t 0.09 & 0.300 & 0.68 & 0.18 & 0.85 & High\\\\\n",
       "\t 0.08 & 0.325 & 0.62 & 0.94 & 0.56 & High\\\\\n",
       "\t 0.20 & 0.490 & 0.60 & 0.20 & 0.78 & High\\\\\n",
       "\t 0.13 & 0.390 & 0.85 & 0.38 & 0.77 & High\\\\\n",
       "\\end{tabular}\n"
      ],
      "text/markdown": [
       "\n",
       "A tibble: 6 × 6\n",
       "\n",
       "| STG &lt;dbl&gt; | SCG &lt;dbl&gt; | STR &lt;dbl&gt; | LPR &lt;dbl&gt; | PEG &lt;dbl&gt; | UNS &lt;fct&gt; |\n",
       "|---|---|---|---|---|---|\n",
       "| 0.08 | 0.080 | 0.10 | 0.24 | 0.90 | High |\n",
       "| 0.00 | 0.000 | 0.50 | 0.20 | 0.85 | High |\n",
       "| 0.09 | 0.300 | 0.68 | 0.18 | 0.85 | High |\n",
       "| 0.08 | 0.325 | 0.62 | 0.94 | 0.56 | High |\n",
       "| 0.20 | 0.490 | 0.60 | 0.20 | 0.78 | High |\n",
       "| 0.13 | 0.390 | 0.85 | 0.38 | 0.77 | High |\n",
       "\n"
      ],
      "text/plain": [
       "  STG  SCG   STR  LPR  PEG  UNS \n",
       "1 0.08 0.080 0.10 0.24 0.90 High\n",
       "2 0.00 0.000 0.50 0.20 0.85 High\n",
       "3 0.09 0.300 0.68 0.18 0.85 High\n",
       "4 0.08 0.325 0.62 0.94 0.56 High\n",
       "5 0.20 0.490 0.60 0.20 0.78 High\n",
       "6 0.13 0.390 0.85 0.38 0.77 High"
      ]
     },
     "metadata": {},
     "output_type": "display_data"
    }
   ],
   "source": [
    "#create the separate model for every possible subset of predictors\n",
    "names <- colnames(user_modeling_train |> select(-UNS))\n",
    "head(user_modeling_train)"
   ]
  },
  {
   "cell_type": "code",
   "execution_count": 7,
   "id": "63c174c0-52c7-4131-a7a3-7a08aa363288",
   "metadata": {
    "vscode": {
     "languageId": "r"
    }
   },
   "outputs": [
    {
     "data": {
      "text/html": [
       "<table class=\"dataframe\">\n",
       "<caption>A tibble: 5 × 3</caption>\n",
       "<thead>\n",
       "\t<tr><th scope=col>size</th><th scope=col>model_string</th><th scope=col>accuracy</th></tr>\n",
       "\t<tr><th scope=col>&lt;int&gt;</th><th scope=col>&lt;chr&gt;</th><th scope=col>&lt;dbl&gt;</th></tr>\n",
       "</thead>\n",
       "<tbody>\n",
       "\t<tr><td>1</td><td>UNS ~ PEG                </td><td>0.8503228</td></tr>\n",
       "\t<tr><td>2</td><td>UNS ~ PEG+LPR            </td><td>0.9599677</td></tr>\n",
       "\t<tr><td>3</td><td>UNS ~ PEG+LPR+SCG        </td><td>0.9434033</td></tr>\n",
       "\t<tr><td>4</td><td>UNS ~ PEG+LPR+SCG+STG    </td><td>0.8894027</td></tr>\n",
       "\t<tr><td>5</td><td>UNS ~ PEG+LPR+SCG+STG+STR</td><td>0.7927845</td></tr>\n",
       "</tbody>\n",
       "</table>\n"
      ],
      "text/latex": [
       "A tibble: 5 × 3\n",
       "\\begin{tabular}{lll}\n",
       " size & model\\_string & accuracy\\\\\n",
       " <int> & <chr> & <dbl>\\\\\n",
       "\\hline\n",
       "\t 1 & UNS \\textasciitilde{} PEG                 & 0.8503228\\\\\n",
       "\t 2 & UNS \\textasciitilde{} PEG+LPR             & 0.9599677\\\\\n",
       "\t 3 & UNS \\textasciitilde{} PEG+LPR+SCG         & 0.9434033\\\\\n",
       "\t 4 & UNS \\textasciitilde{} PEG+LPR+SCG+STG     & 0.8894027\\\\\n",
       "\t 5 & UNS \\textasciitilde{} PEG+LPR+SCG+STG+STR & 0.7927845\\\\\n",
       "\\end{tabular}\n"
      ],
      "text/markdown": [
       "\n",
       "A tibble: 5 × 3\n",
       "\n",
       "| size &lt;int&gt; | model_string &lt;chr&gt; | accuracy &lt;dbl&gt; |\n",
       "|---|---|---|\n",
       "| 1 | UNS ~ PEG                 | 0.8503228 |\n",
       "| 2 | UNS ~ PEG+LPR             | 0.9599677 |\n",
       "| 3 | UNS ~ PEG+LPR+SCG         | 0.9434033 |\n",
       "| 4 | UNS ~ PEG+LPR+SCG+STG     | 0.8894027 |\n",
       "| 5 | UNS ~ PEG+LPR+SCG+STG+STR | 0.7927845 |\n",
       "\n"
      ],
      "text/plain": [
       "  size model_string              accuracy \n",
       "1 1    UNS ~ PEG                 0.8503228\n",
       "2 2    UNS ~ PEG+LPR             0.9599677\n",
       "3 3    UNS ~ PEG+LPR+SCG         0.9434033\n",
       "4 4    UNS ~ PEG+LPR+SCG+STG     0.8894027\n",
       "5 5    UNS ~ PEG+LPR+SCG+STG+STR 0.7927845"
      ]
     },
     "metadata": {},
     "output_type": "display_data"
    }
   ],
   "source": [
    "# create an empty tibble to store the results\n",
    "accuracies <- tibble(size = integer(), \n",
    "                     model_string = character(), \n",
    "                     accuracy = numeric())\n",
    "\n",
    "# create a model specification\n",
    "knn_spec <- nearest_neighbor(weight_func = \"rectangular\", \n",
    "                             neighbors = tune()) |>\n",
    "     set_engine(\"kknn\") |>\n",
    "     set_mode(\"classification\")\n",
    "\n",
    "# create a 5-fold cross-validation object\n",
    "user_vfold <- vfold_cv(user_modeling_train, v = 5, strata = UNS)\n",
    "\n",
    "# store the total number of predictors\n",
    "n_total <- length(names)\n",
    "\n",
    "# stores selected predictors\n",
    "selected <- c()\n",
    "\n",
    "# for every size from 1 to the total number of predictors\n",
    "for (i in 1:n_total) {\n",
    "    # for every predictor still not added yet\n",
    "    accs <- list()\n",
    "    models <- list()\n",
    "    for (j in 1:length(names)) {\n",
    "        # create a model string for this combination of predictors\n",
    "        preds_new <- c(selected, names[[j]])\n",
    "        model_string <- paste(\"UNS\", \"~\", paste(preds_new, collapse=\"+\"))\n",
    "\n",
    "        # create a recipe from the model string\n",
    "        user_recipe <- recipe(as.formula(model_string), \n",
    "                                data = user_modeling_train) |>\n",
    "                          step_scale(all_predictors()) |>\n",
    "                          step_center(all_predictors())\n",
    "\n",
    "        # tune the KNN classifier with these predictors, \n",
    "        # and collect the accuracy for the best K\n",
    "        acc <- workflow() |>\n",
    "          add_recipe(user_recipe) |>\n",
    "          add_model(knn_spec) |>\n",
    "          tune_grid(resamples = user_vfold, grid = 10) |>\n",
    "          collect_metrics() |>\n",
    "          filter(.metric == \"accuracy\") |>\n",
    "          summarize(mx = max(mean))\n",
    "        acc <- acc$mx |> unlist()\n",
    "\n",
    "# add this result to the dataframe\n",
    "        accs[[j]] <- acc\n",
    "        models[[j]] <- model_string\n",
    "    }\n",
    "    jstar <- which.max(unlist(accs))\n",
    "    accuracies <- accuracies |> \n",
    "      add_row(size = i, \n",
    "              model_string = models[[jstar]], \n",
    "              accuracy = accs[[jstar]])\n",
    "    selected <- c(selected, names[[jstar]])\n",
    "    names <- names[-jstar]\n",
    "}\n",
    "accuracies"
   ]
  },
  {
   "cell_type": "markdown",
   "id": "c5fcf657-d9fe-4280-85bd-fe370ecb1cf9",
   "metadata": {},
   "source": [
    "Based on our analysis above, the combination of `PEG` and `LPR` will give us the highest accuracy of the predction which is around `96%`, thus using `PEG` and `LPR` as the two predictors to build our classification model will yield the best result with the highest accuracy.\n",
    "<br><br>\n",
    "Next, we can visualize the distribution of the two predictors we will choose.\n",
    "<br><br>\n",
    "Let’s create the first plot. Using `ggplot`, we will set `LPR` on the `x-axis`. On the next layers, we use `geom_histogram` then `facet_grid` to create a plot containing multiple subplots (each representing one `UNS` level). To split our plot horizontally, we insert the `rows` argument and then call the column name (`UNS`) by surrounding it with `vars`. Adding new layers, we use `labs` to add informative axis labels and `ggtitle` to give our plot a title. "
   ]
  },
  {
   "cell_type": "code",
   "execution_count": 8,
   "id": "e5818228-6e03-447d-a5dc-cb9581f7d78f",
   "metadata": {
    "vscode": {
     "languageId": "r"
    }
   },
   "outputs": [
    {
     "name": "stderr",
     "output_type": "stream",
     "text": [
      "`stat_bin()` using `bins = 30`. Pick better value with `binwidth`.\n",
      "\n"
     ]
    },
    {
     "data": {
      "image/png": "[encoded data removed]",
      "text/plain": [
       "plot without title"
      ]
     },
     "metadata": {
      "image/png": {
       "height": 420,
       "width": 420
      }
     },
     "output_type": "display_data"
    }
   ],
   "source": [
    "LPR_PLOT <- ggplot(user_modeling_train,aes(x = LPR, fill = UNS)) +\n",
    "            geom_histogram() +\n",
    "            facet_grid(rows = vars(UNS)) +\n",
    "            labs(x = \"The exam performance of user for related objects with goal object\", \n",
    "                 fill = \"Knowledge level of user\") +\n",
    "            ggtitle(\"Figure 1: Distribution of LPR\")\n",
    "LPR_PLOT"
   ]
  },
  {
   "cell_type": "markdown",
   "id": "d7b4cb34-7905-4c9e-a43d-dcc7e575fad8",
   "metadata": {},
   "source": [
    "This plot shows that `LPR` has a similar distribution among all 4 different knowledge levels.\n",
    "<br><br>\n",
    "Repeat the steps before, but this time we use `PEG` on the `x-axis`."
   ]
  },
  {
   "cell_type": "code",
   "execution_count": 23,
   "id": "49c0e896-42d8-4c8d-943c-d548b1c40421",
   "metadata": {
    "vscode": {
     "languageId": "r"
    }
   },
   "outputs": [
    {
     "name": "stderr",
     "output_type": "stream",
     "text": [
      "`stat_bin()` using `bins = 30`. Pick better value with `binwidth`.\n",
      "\n"
     ]
    },
    {
     "data": {
      "image/png": "[encoded data removed]",
      "text/plain": [
       "plot without title"
      ]
     },
     "metadata": {
      "image/png": {
       "height": 420,
       "width": 420
      }
     },
     "output_type": "display_data"
    }
   ],
   "source": [
    "PEG_PLOT <- ggplot(user_modeling_train,aes(x = PEG,fill = UNS)) +\n",
    "            geom_histogram() +\n",
    "            facet_grid(rows = vars(UNS)) +\n",
    "            labs(x = \"The exam performance of user for goal objects\", \n",
    "                 fill = \"Knowledge level of user\") +\n",
    "            ggtitle(\"Figure 2: Distribution of PEG\")\n",
    "PEG_PLOT"
   ]
  },
  {
   "cell_type": "markdown",
   "id": "741d965b-99df-41ae-b6c6-621cc0db75a0",
   "metadata": {},
   "source": [
    "This plot shows that:<br>\n",
    "1) There is a narrow distribution of `PEG` between 0 and 0.25 for `very_low` knowledge level.<br>\n",
    "2) There is a narrow and skewed distribution of `PEG` between 0.15 and 0.35 for `Low` knowledge level. <br>\n",
    "3) There is a relatively narrow distribution of `PEG` between 0.25 and 0.70 for `Middle` knowledge level. <br>\n",
    "4) There is a narrow distribution of `PEG` between 0.50 and 0.95 for `High` knowledge level.<br> "
   ]
  },
  {
   "cell_type": "markdown",
   "id": "f1537821-97c2-487f-a6ed-81ec0e7be59f",
   "metadata": {},
   "source": [
    "Next, we choose the best K value for our classifier. We use the training data so that when we test our classifier's accuracy on the testing set, there is no bias towards the predictions as the classifier has not yet been exposed to the testing set. \n",
    "<br><br>\n",
    "First, we use `set.seed` to set the seed value to 1 so our analysis will be reproducible."
   ]
  },
  {
   "cell_type": "code",
   "execution_count": 10,
   "id": "a29e8eb1-ca09-4b07-90fa-9cea92afae0d",
   "metadata": {
    "vscode": {
     "languageId": "r"
    }
   },
   "outputs": [],
   "source": [
    "# set the seed \n",
    "set.seed (1)"
   ]
  },
  {
   "cell_type": "markdown",
   "id": "3c4bad0b-af25-479f-92b4-80913b3e19b6",
   "metadata": {},
   "source": [
    "Then we call `nearest_neighbor` to create a `model specification`, specifying `weight_func` to `\"rectangular\"` (straight-line distance) and each parameter as `tune()`. Using `set_engine` and `set_mode`, we specify this is a `classification` problem that uses `kknn`."
   ]
  },
  {
   "cell_type": "code",
   "execution_count": 11,
   "id": "5e7b3c22-92e5-4ec8-8257-f274b5ab5ab4",
   "metadata": {
    "vscode": {
     "languageId": "r"
    }
   },
   "outputs": [],
   "source": [
    "# make a specification\n",
    "knn_tune <- nearest_neighbor(weight_func = \"rectangular\", neighbors = tune()) %>%\n",
    "       set_engine(\"kknn\") %>%\n",
    "       set_mode(\"classification\") "
   ]
  },
  {
   "cell_type": "markdown",
   "id": "7e6afa4c-96b9-4b72-8605-c11fc30ed42c",
   "metadata": {},
   "source": [
    "To standardize our data, we create a `recipe` where `UNS` is the target, while `LPR` and `PEG` are predictors. Then, we scale and center the data using `step_scale` and `step_center` to ensure the influence of each variable on our prediction is equal."
   ]
  },
  {
   "cell_type": "code",
   "execution_count": 12,
   "id": "aeaa44d0-9168-4ad1-a128-1caff1f9fa20",
   "metadata": {
    "vscode": {
     "languageId": "r"
    }
   },
   "outputs": [],
   "source": [
    "# make a recipe\n",
    "user_modeling_recipe <- recipe(UNS ~ LPR + PEG, data = user_modeling_train) %>% \n",
    "    step_scale(all_predictors()) %>%\n",
    "    step_center(all_predictors())"
   ]
  },
  {
   "cell_type": "markdown",
   "id": "f77c4a06-6783-4828-af1d-725f5d502134",
   "metadata": {},
   "source": [
    "Now we perform cross-validation. Using `vfold_cv`, we split the training set into 10 (`v = 10`) and set the `strata` argument to `UNS`. We choose to use a 10 fold cross-validation because it will give us a more accurate average across all the folds compared to using a lower amount of fold. We limit our cross-validation to 10 fold due to limitations in computational power. "
   ]
  },
  {
   "cell_type": "code",
   "execution_count": 13,
   "id": "273d049f-b846-486f-8576-078336cb1608",
   "metadata": {
    "vscode": {
     "languageId": "r"
    }
   },
   "outputs": [],
   "source": [
    "# specify folds - cross-validation\n",
    "user_modeling_vfold = vfold_cv(user_modeling_train, v = 10, strata = UNS) "
   ]
  },
  {
   "cell_type": "markdown",
   "id": "88b81e1a-ed6f-49ad-82f5-4ba871ffd0db",
   "metadata": {},
   "source": [
    "The next step is to create a new `tibble` (`k_vals`) and specifying, using `seq`, that the neighbors variable contain values `from 1 to 30` (stepping `by 1`).  "
   ]
  },
  {
   "cell_type": "code",
   "execution_count": 14,
   "id": "a6a0c1e9-81ba-4ad6-aff7-c6c3951a15f0",
   "metadata": {
    "vscode": {
     "languageId": "r"
    }
   },
   "outputs": [],
   "source": [
    "# specify grid argument \n",
    "k_vals <- tibble(neighbors = seq(from = 1, to = 30, by = 1))"
   ]
  },
  {
   "cell_type": "markdown",
   "id": "16dea0c3-a8dc-412d-af5f-0f3b311e2b0b",
   "metadata": {},
   "source": [
    "To create a workflow, we first call the `workflow` function. Then, we combine our `recipe` and `model specification` with `add_recipe` and `add_model`. We use `tune_grid` to fit the model and set `resamples` to our cross-validation while also passing `k_vals` to `grid`. Using `collect_metrics`, we aggregate the `mean` and `standard error` of the classifier’s validation accuracy across the folds. We then `filter` for `accuracy` in the `.metric` column. We use `head` to not take much space when glimpsing the dataset.\n",
    "</p>"
   ]
  },
  {
   "cell_type": "code",
   "execution_count": 15,
   "id": "e0fcb478-a8e1-4d0f-ab25-c16fd996faa7",
   "metadata": {
    "vscode": {
     "languageId": "r"
    }
   },
   "outputs": [
    {
     "data": {
      "text/html": [
       "<table class=\"dataframe\">\n",
       "<caption>A tibble: 6 × 7</caption>\n",
       "<thead>\n",
       "\t<tr><th scope=col>neighbors</th><th scope=col>.metric</th><th scope=col>.estimator</th><th scope=col>mean</th><th scope=col>n</th><th scope=col>std_err</th><th scope=col>.config</th></tr>\n",
       "\t<tr><th scope=col>&lt;dbl&gt;</th><th scope=col>&lt;chr&gt;</th><th scope=col>&lt;chr&gt;</th><th scope=col>&lt;dbl&gt;</th><th scope=col>&lt;int&gt;</th><th scope=col>&lt;dbl&gt;</th><th scope=col>&lt;chr&gt;</th></tr>\n",
       "</thead>\n",
       "<tbody>\n",
       "\t<tr><td> 7</td><td>accuracy</td><td>multiclass</td><td>0.9643513</td><td>10</td><td>0.01280039</td><td>Preprocessor1_Model07</td></tr>\n",
       "\t<tr><td> 8</td><td>accuracy</td><td>multiclass</td><td>0.9643513</td><td>10</td><td>0.01280039</td><td>Preprocessor1_Model08</td></tr>\n",
       "\t<tr><td> 9</td><td>accuracy</td><td>multiclass</td><td>0.9578997</td><td>10</td><td>0.01145600</td><td>Preprocessor1_Model09</td></tr>\n",
       "\t<tr><td>10</td><td>accuracy</td><td>multiclass</td><td>0.9578997</td><td>10</td><td>0.01145600</td><td>Preprocessor1_Model10</td></tr>\n",
       "\t<tr><td> 5</td><td>accuracy</td><td>multiclass</td><td>0.9572084</td><td>10</td><td>0.01258114</td><td>Preprocessor1_Model05</td></tr>\n",
       "\t<tr><td> 6</td><td>accuracy</td><td>multiclass</td><td>0.9572084</td><td>10</td><td>0.01258114</td><td>Preprocessor1_Model06</td></tr>\n",
       "</tbody>\n",
       "</table>\n"
      ],
      "text/latex": [
       "A tibble: 6 × 7\n",
       "\\begin{tabular}{lllllll}\n",
       " neighbors & .metric & .estimator & mean & n & std\\_err & .config\\\\\n",
       " <dbl> & <chr> & <chr> & <dbl> & <int> & <dbl> & <chr>\\\\\n",
       "\\hline\n",
       "\t  7 & accuracy & multiclass & 0.9643513 & 10 & 0.01280039 & Preprocessor1\\_Model07\\\\\n",
       "\t  8 & accuracy & multiclass & 0.9643513 & 10 & 0.01280039 & Preprocessor1\\_Model08\\\\\n",
       "\t  9 & accuracy & multiclass & 0.9578997 & 10 & 0.01145600 & Preprocessor1\\_Model09\\\\\n",
       "\t 10 & accuracy & multiclass & 0.9578997 & 10 & 0.01145600 & Preprocessor1\\_Model10\\\\\n",
       "\t  5 & accuracy & multiclass & 0.9572084 & 10 & 0.01258114 & Preprocessor1\\_Model05\\\\\n",
       "\t  6 & accuracy & multiclass & 0.9572084 & 10 & 0.01258114 & Preprocessor1\\_Model06\\\\\n",
       "\\end{tabular}\n"
      ],
      "text/markdown": [
       "\n",
       "A tibble: 6 × 7\n",
       "\n",
       "| neighbors &lt;dbl&gt; | .metric &lt;chr&gt; | .estimator &lt;chr&gt; | mean &lt;dbl&gt; | n &lt;int&gt; | std_err &lt;dbl&gt; | .config &lt;chr&gt; |\n",
       "|---|---|---|---|---|---|---|\n",
       "|  7 | accuracy | multiclass | 0.9643513 | 10 | 0.01280039 | Preprocessor1_Model07 |\n",
       "|  8 | accuracy | multiclass | 0.9643513 | 10 | 0.01280039 | Preprocessor1_Model08 |\n",
       "|  9 | accuracy | multiclass | 0.9578997 | 10 | 0.01145600 | Preprocessor1_Model09 |\n",
       "| 10 | accuracy | multiclass | 0.9578997 | 10 | 0.01145600 | Preprocessor1_Model10 |\n",
       "|  5 | accuracy | multiclass | 0.9572084 | 10 | 0.01258114 | Preprocessor1_Model05 |\n",
       "|  6 | accuracy | multiclass | 0.9572084 | 10 | 0.01258114 | Preprocessor1_Model06 |\n",
       "\n"
      ],
      "text/plain": [
       "  neighbors .metric  .estimator mean      n  std_err    .config              \n",
       "1  7        accuracy multiclass 0.9643513 10 0.01280039 Preprocessor1_Model07\n",
       "2  8        accuracy multiclass 0.9643513 10 0.01280039 Preprocessor1_Model08\n",
       "3  9        accuracy multiclass 0.9578997 10 0.01145600 Preprocessor1_Model09\n",
       "4 10        accuracy multiclass 0.9578997 10 0.01145600 Preprocessor1_Model10\n",
       "5  5        accuracy multiclass 0.9572084 10 0.01258114 Preprocessor1_Model05\n",
       "6  6        accuracy multiclass 0.9572084 10 0.01258114 Preprocessor1_Model06"
      ]
     },
     "metadata": {},
     "output_type": "display_data"
    }
   ],
   "source": [
    "# make a workflow, run training data, collect the metrics \n",
    "user_modeling_fit <- workflow() %>%\n",
    "       add_recipe(user_modeling_recipe) %>% \n",
    "       add_model(knn_tune) %>%\n",
    "       tune_grid(resamples = user_modeling_vfold, grid = k_vals) %>% \n",
    "       collect_metrics() %>% \n",
    "       filter(.metric == \"accuracy\")%>%\n",
    "      arrange(desc(mean))\n",
    "head(user_modeling_fit)"
   ]
  },
  {
   "cell_type": "markdown",
   "id": "a0b6392c-663c-4185-b2a4-b0b885820489",
   "metadata": {},
   "source": [
    "To visualize each K value’s accuracy, we use `ggplot` to set neighbors to `x-axis` and `mean` to `y-axis`. On the next layer, we create the visualization using `geom_point` and `geom_line`. Adding new layers, we use `labs` to add informative axis labels and `ggtitle` to give our plot a title."
   ]
  },
  {
   "cell_type": "code",
   "execution_count": 24,
   "id": "a91968ba-821f-45e1-9462-54f750194710",
   "metadata": {
    "vscode": {
     "languageId": "r"
    }
   },
   "outputs": [
    {
     "data": {
      "image/png": "[encoded data removed]",
      "text/plain": [
       "plot without title"
      ]
     },
     "metadata": {
      "image/png": {
       "height": 420,
       "width": 420
      }
     },
     "output_type": "display_data"
    }
   ],
   "source": [
    "# plot the accuracy vs K \n",
    "accuracy_versus_k <- user_modeling_fit %>%\n",
    "    ggplot(aes(x = neighbors, y = mean))+\n",
    "       geom_point() +\n",
    "       geom_line() +\n",
    "       labs(x = \"Neighbors\", y = \"Accuracy Estimate\") +\n",
    "       ggtitle(\"Figure 3: K's From 1-30 vs Accuracy\")\n",
    "accuracy_versus_k"
   ]
  },
  {
   "cell_type": "markdown",
   "id": "0c29c6f4-e13a-457b-8cf5-8c76c66ea18f",
   "metadata": {},
   "source": [
    "The plot above shows that accuracy is highest using `K = 7` or `K = 8` nearest neighbours. We can use `filter` and `pull` to check individual accuracies of each `K`."
   ]
  },
  {
   "cell_type": "code",
   "execution_count": 17,
   "id": "f0ad98e0-6c70-4e40-9cb7-042d68efbc7b",
   "metadata": {
    "vscode": {
     "languageId": "r"
    }
   },
   "outputs": [
    {
     "data": {
      "text/html": [
       "0.964351263308438"
      ],
      "text/latex": [
       "0.964351263308438"
      ],
      "text/markdown": [
       "0.964351263308438"
      ],
      "text/plain": [
       "[1] 0.9643513"
      ]
     },
     "metadata": {},
     "output_type": "display_data"
    },
    {
     "data": {
      "text/html": [
       "0.964351263308438"
      ],
      "text/latex": [
       "0.964351263308438"
      ],
      "text/markdown": [
       "0.964351263308438"
      ],
      "text/plain": [
       "[1] 0.9643513"
      ]
     },
     "metadata": {},
     "output_type": "display_data"
    }
   ],
   "source": [
    "# accuracy at K = 7 or K = 8 on training data\n",
    "user_modeling_fit %>% \n",
    "    filter(neighbors == \"7\") %>% \n",
    "    pull(mean)\n",
    "\n",
    "user_modeling_fit %>% \n",
    "    filter(neighbors == \"8\") %>% \n",
    "    pull(mean)\n",
    "\n",
    "# Using K = 7 and K = 8 yield the same accuracy"
   ]
  },
  {
   "cell_type": "markdown",
   "id": "562ced9e-26cd-4231-8a7d-4db38a3add60",
   "metadata": {},
   "source": [
    "Both `K = 7` and `K = 8` have the highest accuracy around `96%`. However, we decide to use `K = 7` so that the cost of training the model is less prohibitive (i.e. using `K = 8` will take more computational power).\n",
    "<br><br>\n",
    "The next step is to rebuild our specification using `K = 7`, and we will run this classifier on the testing set. \n",
    "<br><br>\n",
    "We first call `nearest_neighbor`, specifying `weight_func` to `\"rectangular\"` (straight-line distance) and `K = 7`. Using `set_engine` and `set_mode`, we specify this is a `classification` problem that uses `kknn`."
   ]
  },
  {
   "cell_type": "code",
   "execution_count": 18,
   "id": "8f24f0c6-22da-45e1-8999-3c5d7ab74f26",
   "metadata": {
    "vscode": {
     "languageId": "r"
    }
   },
   "outputs": [],
   "source": [
    "# run classifier on testing data \n",
    "test_spec <- nearest_neighbor(weight_func = \"rectangular\", neighbors = 7) %>% \n",
    "    set_engine(\"kknn\") %>% \n",
    "    set_mode(\"classification\") "
   ]
  },
  {
   "cell_type": "markdown",
   "id": "caf379bc-587c-465f-a5bb-f628ea56142c",
   "metadata": {},
   "source": [
    "Next, we call `workflow` and combine our `recipe` and `model specification` into the workflow with `add_recipe` and `add_model`. After that, we use `fit` to run the whole workflow on the training data."
   ]
  },
  {
   "cell_type": "code",
   "execution_count": 19,
   "id": "b9b6d192-9d81-4361-bdf5-188b73e7ae1a",
   "metadata": {
    "vscode": {
     "languageId": "r"
    }
   },
   "outputs": [],
   "source": [
    "#Run the workflow\n",
    "test_fit <- workflow() %>%\n",
    "    add_recipe(user_modeling_recipe) %>% \n",
    "    add_model(test_spec) %>% \n",
    "    fit(data = user_modeling_train)"
   ]
  },
  {
   "cell_type": "markdown",
   "id": "1ff13f17-9110-426d-839d-51ef20f678c0",
   "metadata": {},
   "source": [
    "Now we run our classifier to predict the class labels for our testing set using `predict` and `bind_cols` which creates a new data frame where we add the column of predictions to the original test data. To assess our classifier’s accuracy, we use `metrics` to get the statistics of our model’s quality. We specify the `truth` to `UNS` and `estimate` to `.pred_class`, which contains the predicted diagnoses from the classifier. We then `filter` for `accuracy` in the `.metric` column and use `pull` to get the value."
   ]
  },
  {
   "cell_type": "code",
   "execution_count": 20,
   "id": "aa32c485-fd1b-4752-b22b-0fc08a60a033",
   "metadata": {
    "vscode": {
     "languageId": "r"
    }
   },
   "outputs": [
    {
     "data": {
      "text/html": [
       "0.970873786407767"
      ],
      "text/latex": [
       "0.970873786407767"
      ],
      "text/markdown": [
       "0.970873786407767"
      ],
      "text/plain": [
       "[1] 0.9708738"
      ]
     },
     "metadata": {},
     "output_type": "display_data"
    }
   ],
   "source": [
    "#Generate the accuracy of our testing data when K=5\n",
    "test_accuracy <- test_fit %>% \n",
    "    predict(user_modeling_test) %>% \n",
    "    bind_cols(user_modeling_test) %>% \n",
    "    metrics(truth = UNS, estimate = .pred_class) %>% \n",
    "    filter(.metric == \"accuracy\") %>% \n",
    "    pull(.estimate)\n",
    "test_accuracy"
   ]
  },
  {
   "cell_type": "markdown",
   "id": "d36856ac-b70a-4d02-a26d-1ff55221c9b9",
   "metadata": {},
   "source": [
    "Using our classifier with `K = 7` gives us approximately `97.087%` accuracy when running our testing data, which is close to our training data accuracy. \n",
    "<br><br>\n",
    "Finally, we ran the classifier on a hypothetical user model to prove our thesis that users with lower `LPR` and `PEG` would likely be classified in a `very_low` `UNS` level, and users with high `LPR` and `PEG` would be classfifed in a `High` `UNS` level. For a user with 0.2 `LPR` and 0.15 `PEG`, the classifier predicted a `very_low` `UNS`. For a user with 0.75 `LPR` and 0.9 `PEG`, the predicted `UNS` level was `High`."
   ]
  },
  {
   "cell_type": "code",
   "execution_count": 21,
   "id": "4da6bd62-bb2c-47f2-9b96-05dd419bfd15",
   "metadata": {
    "vscode": {
     "languageId": "r"
    }
   },
   "outputs": [
    {
     "data": {
      "text/html": [
       "<table class=\"dataframe\">\n",
       "<caption>A tibble: 1 × 1</caption>\n",
       "<thead>\n",
       "\t<tr><th scope=col>.pred_class</th></tr>\n",
       "\t<tr><th scope=col>&lt;fct&gt;</th></tr>\n",
       "</thead>\n",
       "<tbody>\n",
       "\t<tr><td>very_low</td></tr>\n",
       "</tbody>\n",
       "</table>\n"
      ],
      "text/latex": [
       "A tibble: 1 × 1\n",
       "\\begin{tabular}{l}\n",
       " .pred\\_class\\\\\n",
       " <fct>\\\\\n",
       "\\hline\n",
       "\t very\\_low\\\\\n",
       "\\end{tabular}\n"
      ],
      "text/markdown": [
       "\n",
       "A tibble: 1 × 1\n",
       "\n",
       "| .pred_class &lt;fct&gt; |\n",
       "|---|\n",
       "| very_low |\n",
       "\n"
      ],
      "text/plain": [
       "  .pred_class\n",
       "1 very_low   "
      ]
     },
     "metadata": {},
     "output_type": "display_data"
    }
   ],
   "source": [
    "# run classifier on a hypothetical user model\n",
    "poor_knowledge_level <- tibble(LPR = 0.2, PEG = 0.15) \n",
    "\n",
    "test_accuracy_poor <- test_fit %>% \n",
    "    predict(poor_knowledge_level)\n",
    "test_accuracy_poor"
   ]
  },
  {
   "cell_type": "code",
   "execution_count": 22,
   "id": "1bae1fdc-3996-475d-aef2-cbfe575a65a5",
   "metadata": {
    "vscode": {
     "languageId": "r"
    }
   },
   "outputs": [
    {
     "data": {
      "text/html": [
       "<table class=\"dataframe\">\n",
       "<caption>A tibble: 1 × 1</caption>\n",
       "<thead>\n",
       "\t<tr><th scope=col>.pred_class</th></tr>\n",
       "\t<tr><th scope=col>&lt;fct&gt;</th></tr>\n",
       "</thead>\n",
       "<tbody>\n",
       "\t<tr><td>High</td></tr>\n",
       "</tbody>\n",
       "</table>\n"
      ],
      "text/latex": [
       "A tibble: 1 × 1\n",
       "\\begin{tabular}{l}\n",
       " .pred\\_class\\\\\n",
       " <fct>\\\\\n",
       "\\hline\n",
       "\t High\\\\\n",
       "\\end{tabular}\n"
      ],
      "text/markdown": [
       "\n",
       "A tibble: 1 × 1\n",
       "\n",
       "| .pred_class &lt;fct&gt; |\n",
       "|---|\n",
       "| High |\n",
       "\n"
      ],
      "text/plain": [
       "  .pred_class\n",
       "1 High       "
      ]
     },
     "metadata": {},
     "output_type": "display_data"
    }
   ],
   "source": [
    "high_knowledge_level <- tibble(LPR = 0.75, PEG = 0.9)\n",
    "\n",
    "test_accuracy_difference1<- test_fit %>% \n",
    "    predict(high_knowledge_level)\n",
    "test_accuracy_difference1"
   ]
  },
  {
   "cell_type": "markdown",
   "id": "86517b1b-5a16-4536-98a3-64042e60645b",
   "metadata": {},
   "source": [
    "The predictions we obtain from these observations further proves our thesis that a higher `LPR` and `PEG` would result in a higher user knowledge level."
   ]
  },
  {
   "cell_type": "markdown",
   "id": "6d034a42-83d8-492f-8710-73d9272facd8",
   "metadata": {},
   "source": [
    "### 4. Discussion\n",
    "\n",
    "Upon initial analysis of the dataset, it was found that the predictor variables `LPR` and `PEG` would yield the highest accuracy when predicting the knowledge level of a user. For this reason, these observations were used as predictors in the classification model. We then used this classifier to confirm our thesis; a user with a high exam performance for goal objects (`PEG`) and related objects with goal objects (`LPR`) would have a `High` knowledge level (`UNS`), while a user with weak exam performance for goal objects (`PEG`) and related objects with goal objects (`LPR`) would have a `very_low` knowledge level (`UNS`). After running the classification model for both train and test data sets, we concluded that `K = 7` gives us an accuracy of around `96%` on testing data, which is close to the training data. Thus, our results supported our thesis that a higher `LPR` and `PEG` would result in a higher user knowledge level.\n",
    "<br><br>\n",
    "The findings from our classifier is significant in understanding factors that contribute to a user's knowledge level in a particular subject area. In the future, our findings can drive further research into areas of focus for users in order to maximize their knowledge on a subject. For example, students can use this analysis to develop more effective studying regimes to excel in their areas of study by focusing on exam performance techniques and simulations. Furthermore, these findings provoke new questions to explore, such as how the knowledge level of a user can change depending on third-party variables. These variables could include the age or sex of a user, or how sleep can impact the memorization and learning of an individual towards their knowledge level.\n",
    "<br><br>"
   ]
  },
  {
   "cell_type": "markdown",
   "id": "464c3e1e-a452-4c2a-83fe-34dd6eeb8a42",
   "metadata": {
    "vscode": {
     "languageId": "r"
    }
   },
   "source": [
    "### 5. References\n",
    "<p style='text-align:justify;'> \n",
    "Kahraman, H. T., Sagiroglu, S., & Colak, I. (2013). The development of intuitive knowledge classifier and the modeling of domain dependent data. Knowledge-Based Systems, 37, 283–295. https://doi.org/10.1016/j.knosys.2012.08.009 \n",
    "<br><br>\n",
    "Colak, I., Sagiroglu, S., & Kahraman, H. T. (2008). A user modeling approach to web based Adaptive Educational Hypermedia Systems. 2008 Seventh International Conference on Machine Learning and Applications. https://doi.org/10.1109/icmla.2008.66 \n",
    "</p>"
   ]
  },
  {
   "cell_type": "code",
   "execution_count": null,
   "id": "f3dd8ba7-e2aa-4906-b50c-7a31379d482a",
   "metadata": {
    "vscode": {
     "languageId": "r"
    }
   },
   "outputs": [],
   "source": []
  }
 ],
 "metadata": {
  "kernelspec": {
   "display_name": "R",
   "language": "R",
   "name": "ir"
  },
  "language_info": {
   "codemirror_mode": "r",
   "file_extension": ".r",
   "mimetype": "text/x-r-source",
   "name": "R",
   "pygments_lexer": "r",
   "version": "4.1.3"
  }
 },
 "nbformat": 4,
 "nbformat_minor": 5
}
